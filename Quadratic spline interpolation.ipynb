{
  "cells": [
    {
      "cell_type": "code",
      "execution_count": 19,
      "metadata": {
        "id": "B8q3IfzjRWFY"
      },
      "outputs": [],
      "source": [
        "import numpy as np\n",
        "import matplotlib.pyplot as plt\n",
        "from scipy.interpolate import interp1d\n",
        "from sympy import symbols, diff, solve\n",
        "\n",
        "\n",
        "def quadratic_interpolation(x_data,y_data,x_new,plot=False):\n",
        "  \"\"\"\n",
        "    Perform quadratic interpolation on a set of data points and optionally plot the interpolated curve.\n",
        "\n",
        "    Parameters:\n",
        "    - x_data (array-like): x-coordinates of the input data points.\n",
        "    - y_data (array-like): y-coordinates of the input data points.\n",
        "    - x_new (float): x-coordinate for which the interpolation is desired.\n",
        "    - plot (bool, optional): If True, the function will plot the interpolated curve along with the input data points.\n",
        "\n",
        "    Returns:\n",
        "    - solution (dict): Coefficients of the quadratic interpolating polynomials.\n",
        "    - yn (float): Interpolated y-value corresponding to x_new.\n",
        "\n",
        "    The function uses symbolic computation to derive a system of equations based on the quadratic polynomial form.\n",
        "    It then solves the system of equations to obtain the coefficients for each quadratic segment.\n",
        "\n",
        "    If 'plot' is set to True, the function will display a plot of the interpolated curve along with the input data points.\n",
        "    The interpolated y-value at x_new is also marked on the plot.\n",
        "\n",
        "    Example:\n",
        "    ```python\n",
        "    x_data = [1, 2, 3, 4]\n",
        "    y_data = [2, 3, 5, 10]\n",
        "    x_new = 2.5\n",
        "    solution, yn = quadratic_interpolation(x_data, y_data, x_new, plot=True)\n",
        "    ```\n",
        "\n",
        "    Note: This function assumes that the input data points are provided in ascending order of x-coordinates.\n",
        "\n",
        "  \"\"\"\n",
        "  data = [[i,j] for i,j in zip(x_data,y_data)]\n",
        "  points = np.array(data)\n",
        "  n = len(points) - 1\n",
        "\n",
        "  x, y = symbols('x, y')     #sympy\n",
        "  a = symbols('a1:%d'%(n+1))\n",
        "  b = symbols('b1:%d'%(n+1))\n",
        "  c = symbols('c1:%d'%(n+1))\n",
        "\n",
        "\n",
        "## list of quadratic functions \n",
        "  f = [a[i]*x**2 + b[i]*x + c[i] - y for i in range(n)]\n",
        "\n",
        "\n",
        "  equations = []\n",
        "  equations.append(f[0].subs(x, points[0, 0]).subs(y, points[0, 1]))\n",
        "\n",
        "# Generates quadratic equations at different points\n",
        "  for i in range(n - 1):\n",
        "    equations.append(f[i].subs(x, points[i + 1, 0]).subs(y, points[i + 1, 1]))\n",
        "    equations.append(f[i + 1].subs(x, points[i + 1, 0]).subs(y, points[i + 1, 1]))\n",
        "\n",
        "  equations.append(f[-1].subs(x, points[-1, 0]).subs(y, points[-1, 1]))\n",
        "\n",
        "\n",
        "# First derivatives of the equations\n",
        "  fdx = [diff(fi, x) for fi in f]\n",
        "  for i in range(n - 1):\n",
        "    equations.append(fdx[i].subs(x, points[i + 1, 0]) - fdx[i + 1].subs(x, points[i + 1, 0]))\n",
        "\n",
        "\n",
        "  equations.append(a[-1])\n",
        "  print(equations)\n",
        "\n",
        "  equation_tuple = tuple(equations)\n",
        "  coef_tuple = tuple(a+b+c)\n",
        "\n",
        "  solution = solve(equation_tuple, coef_tuple)\n",
        "  print(solution)\n",
        "\n",
        "  if plot:\n",
        "    for i in range(n):\n",
        "        span = np.linspace(points[i, 0], points[i + 1, 0], 100)\n",
        "        fi = f[i].subs(solution)\n",
        "        print(f'Spline: {i+1}:  {fi}')\n",
        "        plt.plot(span, [solve(fi.subs(x, i)) for i in span], label='f{i}'.format(i=i+1))\n",
        "    plt.scatter(points[:, 0], points[:, 1])\n",
        "\n",
        "\n",
        "  for i in range(n):\n",
        "    if x_new >= points[i,0] and x_new <= points[i+1,0]:\n",
        "      fi=  f[i].subs(solution)\n",
        "      yn = solve(fi.subs(x,x_new))\n",
        "      plt.scatter(x_new, yn,label='f{i}(x_new)'.format(i=i +1))\n",
        "      break;\n",
        "    else:\n",
        "      yn = 0\n",
        "\n",
        "  if(yn ==0):\n",
        "    print(\"The value is out of bound\")\n",
        "\n",
        "  plt.grid()\n",
        "  plt.legend()\n",
        "  plt.show()\n",
        "  return solution,yn"
      ]
    },
    {
      "cell_type": "code",
      "execution_count": 24,
      "metadata": {
        "colab": {
          "base_uri": "https://localhost:8080/",
          "height": 611
        },
        "id": "f8x2vAVaaLEO",
        "outputId": "eefb1597-d486-431e-b4c4-93c8c81ccc93"
      },
      "outputs": [
        {
          "name": "stdout",
          "output_type": "stream",
          "text": [
            "[c1, 100.0*a1 + 10.0*b1 + c1 - 227.04, 100.0*a2 + 10.0*b2 + c2 - 227.04, 225.0*a2 + 15.0*b2 + c2 - 362.78, 225.0*a3 + 15.0*b3 + c3 - 362.78, 400.0*a3 + 20.0*b3 + c3 - 517.35, 400.0*a4 + 20.0*b4 + c4 - 517.35, 506.25*a4 + 22.5*b4 + c4 - 602.97, 506.25*a5 + 22.5*b5 + c5 - 602.97, 900.0*a5 + 30.0*b5 + c5 - 901.67, 20.0*a1 - 20.0*a2 + b1 - b2, 30.0*a2 - 30.0*a3 + b2 - b3, 40.0*a3 - 40.0*a4 + b3 - b4, 45.0*a4 - 45.0*a5 + b4 - b5, a5]\n",
            "{a1: -0.156666666666667, a2: 1.20213333333333, a3: -0.448933333333333, a4: 2.23146666666667, a5: 0.0, b1: 24.2706666666667, b2: -2.90533333333333, b3: 46.6266666666667, b4: -60.5893333333333, b5: 39.8266666666667, c1: 0.0, c2: 135.880000000000, c3: -235.610000000000, c4: 836.550000000000, c5: -293.130000000000}\n",
            "Spline: 1:  -0.156666666666667*x**2 + 24.2706666666667*x - y\n",
            "Spline: 2:  1.20213333333333*x**2 - 2.90533333333333*x - y + 135.88\n",
            "Spline: 3:  -0.448933333333333*x**2 + 46.6266666666667*x - y - 235.61\n",
            "Spline: 4:  2.23146666666667*x**2 - 60.5893333333333*x - y + 836.55\n",
            "Spline: 5:  39.8266666666667*x - y - 293.13\n"
          ]
        },
        {
          "data": {
            "image/png": "[encoded data removed]",
            "text/plain": [
              "<Figure size 640x480 with 1 Axes>"
            ]
          },
          "metadata": {},
          "output_type": "display_data"
        },
        {
          "name": "stdout",
          "output_type": "stream",
          "text": [
            "[395.489733333333]\n"
          ]
        }
      ],
      "source": [
        "x = [0,0.5,1,1.5,2]\n",
        "y = [0.1,0.2,1,0.5,1]\n",
        "x_data = [0,10,15,20,22.5,30]\n",
        "y_data = [0,227.04,362.78,517.35,602.97,901.67]\n",
        "\n",
        "solution,y = quadratic_interpolation(x_data,y_data,x_new=16,plot=True)\n",
        "print(y)"
      ]
    },
    {
      "cell_type": "markdown",
      "metadata": {
        "id": "iKvk7LO1bWjy"
      },
      "source": []
    }
  ],
  "metadata": {
    "accelerator": "GPU",
    "colab": {
      "gpuType": "T4",
      "provenance": []
    },
    "kernelspec": {
      "display_name": "Python 3",
      "name": "python3"
    },
    "language_info": {
      "codemirror_mode": {
        "name": "ipython",
        "version": 3
      },
      "file_extension": ".py",
      "mimetype": "text/x-python",
      "name": "python",
      "nbconvert_exporter": "python",
      "pygments_lexer": "ipython3",
      "version": "3.11.5"
    }
  },
  "nbformat": 4,
  "nbformat_minor": 0
}
